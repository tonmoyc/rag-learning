{
 "cells": [
  {
   "cell_type": "code",
   "execution_count": 1,
   "id": "2d927684-ce96-434c-9870-3dbcf129bc8a",
   "metadata": {},
   "outputs": [
    {
     "name": "stdout",
     "output_type": "stream",
     "text": [
      "Our 4-dimensional vector:\n",
      "[0.123 0.321 0.312 0.231]\n",
      "Vector shape: (4,)\n",
      "Vector type: <class 'numpy.ndarray'>\n"
     ]
    }
   ],
   "source": [
    "import numpy as np\n",
    "import matplotlib.pyplot as plt\n",
    "\n",
    "# Create the example vector from the chapter\n",
    "vector_example = np.array([0.123, 0.321, 0.312, 0.231])\n",
    "\n",
    "print(\"Our 4-dimensional vector:\")\n",
    "print(vector_example)\n",
    "print(f\"Vector shape: {vector_example.shape}\")\n",
    "print(f\"Vector type: {type(vector_example)}\")"
   ]
  },
  {
   "cell_type": "code",
   "execution_count": 2,
   "id": "f044d19b-a0ed-4365-b228-be2d7e95a0a8",
   "metadata": {},
   "outputs": [
    {
     "name": "stdout",
     "output_type": "stream",
     "text": [
      "Original vector: [0.123 0.321 0.312 0.231]\n",
      "Similar vector:  [0.12  0.318 0.315 0.228]\n",
      "Different vector: [0.89  0.012 0.654 0.099]\n",
      "\n",
      "Similarity between original and similar: 0.2678\n",
      "Similarity between original and different: 0.3402\n"
     ]
    }
   ],
   "source": [
    "# Create two more vectors to compare with our original\n",
    "vector_similar = np.array([0.120, 0.318, 0.315, 0.228])  # Very similar to original\n",
    "vector_different = np.array([0.890, 0.012, 0.654, 0.099])  # Very different\n",
    "\n",
    "print(\"Original vector:\", vector_example)\n",
    "print(\"Similar vector: \", vector_similar)\n",
    "print(\"Different vector:\", vector_different)\n",
    "\n",
    "# Calculate similarity using dot product (basic similarity measure)\n",
    "similarity_1 = np.dot(vector_example, vector_similar)\n",
    "similarity_2 = np.dot(vector_example, vector_different)\n",
    "\n",
    "print(f\"\\nSimilarity between original and similar: {similarity_1:.4f}\")\n",
    "print(f\"Similarity between original and different: {similarity_2:.4f}\")"
   ]
  },
  {
   "cell_type": "code",
   "execution_count": 3,
   "id": "30347ca7-83ac-49b7-a83c-19cd11361a50",
   "metadata": {},
   "outputs": [
    {
     "name": "stdout",
     "output_type": "stream",
     "text": [
      "User Query: 'How do I learn Python programming?'\n",
      "Query vector: [0.8 0.9 0.1 0.5]\n",
      "\n",
      "Comparing with documents:\n",
      "doc1 ('Python programming language tutorial'): similarity = 1.80\n",
      "doc2 ('Python coding best practices guide'): similarity = 1.67\n",
      "doc3 ('Recipe for chocolate cake baking'): similarity = 0.74\n"
     ]
    }
   ],
   "source": [
    "# Let's simulate what happens when we convert text to vectors\n",
    "# In real RAG, this is done by embedding models, but we'll create simple examples\n",
    "\n",
    "# Imagine these are documents in a company knowledge base\n",
    "documents = {\n",
    "    \"doc1\": \"Python programming language tutorial\",\n",
    "    \"doc2\": \"Python coding best practices guide\", \n",
    "    \"doc3\": \"Recipe for chocolate cake baking\"\n",
    "}\n",
    "\n",
    "# Simulate vectors for these documents (in reality, these come from embedding models)\n",
    "# Higher values in position [0] = programming-related, [1] = tutorial-related, \n",
    "# [2] = food-related, [3] = general helpfulness\n",
    "doc_vectors = {\n",
    "    \"doc1\": np.array([0.9, 0.8, 0.1, 0.7]),  # High programming, high tutorial\n",
    "    \"doc2\": np.array([0.9, 0.6, 0.1, 0.8]),  # High programming, medium tutorial  \n",
    "    \"doc3\": np.array([0.1, 0.3, 0.9, 0.6])   # Low programming, high food\n",
    "}\n",
    "\n",
    "# User asks: \"How do I learn Python programming?\"\n",
    "# This gets converted to a vector too\n",
    "user_query_vector = np.array([0.8, 0.9, 0.1, 0.5])  # High programming, very high tutorial\n",
    "\n",
    "print(\"User Query: 'How do I learn Python programming?'\")\n",
    "print(\"Query vector:\", user_query_vector)\n",
    "print(\"\\nComparing with documents:\")\n",
    "\n",
    "for doc_id, doc_vector in doc_vectors.items():\n",
    "    similarity = np.dot(user_query_vector, doc_vector)\n",
    "    print(f\"{doc_id} ('{documents[doc_id]}'): similarity = {similarity:.2f}\")"
   ]
  },
  {
   "cell_type": "code",
   "execution_count": 5,
   "id": "4fc52f4e-c230-4dca-848d-7bdbf4ef2d79",
   "metadata": {},
   "outputs": [
    {
     "name": "stdout",
     "output_type": "stream",
     "text": [
      "Indexed: doc1\n",
      "Indexed: doc2\n",
      "Indexed: doc3\n",
      "\n",
      "Indexed 3 documents\n"
     ]
    }
   ],
   "source": [
    "# STAGE 1: INDEXING - Store our documents and their vectors\n",
    "\n",
    "class SimpleRAG:\n",
    "    def __init__(self):\n",
    "        self.document_store = {}  # Original documents\n",
    "        self.vector_store = {}  # Document vectors\n",
    "\n",
    "    def add_document(self, doc_id, text, vector):\n",
    "        \"\"\"Index a document (convert to vector and store)\"\"\"\n",
    "        self.document_store[doc_id] = text\n",
    "        self.vector_store[doc_id] = vector\n",
    "        print(f\"Indexed: {doc_id}\")\n",
    "\n",
    "# Create our RAG system and index our documents\n",
    "rag_system = SimpleRAG()\n",
    "\n",
    "# Index our example documents\n",
    "for doc_id, text in documents.items():\n",
    "    rag_system.add_document(doc_id, text, doc_vectors[doc_id])\n",
    "\n",
    "print(f\"\\nIndexed {len(rag_system.document_store)} documents\")"
   ]
  },
  {
   "cell_type": "code",
   "execution_count": 6,
   "id": "3ba9b1bf-c03e-469b-875f-3b5a7503fca2",
   "metadata": {},
   "outputs": [
    {
     "name": "stdout",
     "output_type": "stream",
     "text": [
      "RETRIEVAL STAGE:\n",
      "Query: 'How do I learn Python programming?'\n",
      "\n",
      "Top 2 most relevant documents:\n",
      "- doc1: 'Python programming language tutorial' (similarity: 1.80)\n",
      "- doc2: 'Python coding best practices guide' (similarity: 1.67)\n"
     ]
    }
   ],
   "source": [
    "# STAGE 2: RETRIEVAL - Find most relevant documents\n",
    "def retrieve_documents(rag_system, query_vector, top_k=2):\n",
    "    \"\"\"Find the most similar documents to the query\"\"\"\n",
    "    similarities = {}\n",
    "    \n",
    "    # Calculate similarity with each stored document\n",
    "    for doc_id, doc_vector in rag_system.vector_store.items():\n",
    "        similarity = np.dot(query_vector, doc_vector)\n",
    "        similarities[doc_id] = similarity\n",
    "    \n",
    "    # Sort by similarity (highest first) and return top_k\n",
    "    sorted_docs = sorted(similarities.items(), key=lambda x: x[1], reverse=True)\n",
    "    \n",
    "    return sorted_docs[:top_k]\n",
    "\n",
    "# Test retrieval with our Python learning query\n",
    "print(\"RETRIEVAL STAGE:\")\n",
    "print(\"Query: 'How do I learn Python programming?'\")\n",
    "\n",
    "retrieved_docs = retrieve_documents(rag_system, user_query_vector, top_k=2)\n",
    "\n",
    "print(f\"\\nTop {len(retrieved_docs)} most relevant documents:\")\n",
    "for doc_id, similarity in retrieved_docs:\n",
    "    original_text = rag_system.document_store[doc_id]\n",
    "    print(f\"- {doc_id}: '{original_text}' (similarity: {similarity:.2f})\")"
   ]
  },
  {
   "cell_type": "code",
   "execution_count": 7,
   "id": "ba511b10-4e43-48e3-ba55-bcd08b05bc08",
   "metadata": {},
   "outputs": [
    {
     "name": "stdout",
     "output_type": "stream",
     "text": [
      "COMPLETE RAG PIPELINE TEST\n",
      "==================================================\n",
      "GENERATION STAGE:\n",
      "==================================================\n",
      "Simulated LLM Prompt:\n",
      "\n",
      "    You are a helpful assistant. Answer the question using the provided context.\n",
      "\n",
      "    Question: How do I learn Python programming?\n",
      "    Context: Python programming language tutorial | Python coding best practices guide\n",
      "\n",
      "    Answer: Based on the context provided, here are the relevant resources for learning Python programming...\n",
      "    \n",
      "\n",
      "Pipeline completed! Used 2 documents to generate response.\n"
     ]
    }
   ],
   "source": [
    "# STAGE 3: GENERATION - Create response using retrieved documents\n",
    "def generate_response(query, retrieved_docs, rag_system):\n",
    "    \"\"\"Simulate LLM generation using retrieved documents\"\"\"\n",
    "    \n",
    "    # Gather the retrieved document texts\n",
    "    context_docs = []\n",
    "    for doc_id, similarity in retrieved_docs:\n",
    "        doc_text = rag_system.document_store[doc_id]\n",
    "        context_docs.append(doc_text)\n",
    "    \n",
    "    # Simulate the prompt that would be sent to the LLM\n",
    "    context = \" | \".join(context_docs)\n",
    "    \n",
    "    simulated_prompt = f\"\"\"\n",
    "    You are a helpful assistant. Answer the question using the provided context.\n",
    "    \n",
    "    Question: {query}\n",
    "    Context: {context}\n",
    "    \n",
    "    Answer: Based on the context provided, here are the relevant resources for learning Python programming...\n",
    "    \"\"\"\n",
    "    \n",
    "    print(\"GENERATION STAGE:\")\n",
    "    print(\"=\" * 50)\n",
    "    print(\"Simulated LLM Prompt:\")\n",
    "    print(simulated_prompt)\n",
    "    \n",
    "    return context_docs\n",
    "\n",
    "# Complete RAG pipeline test\n",
    "query = \"How do I learn Python programming?\"\n",
    "print(\"COMPLETE RAG PIPELINE TEST\")\n",
    "print(\"=\" * 50)\n",
    "\n",
    "# Stage 2: Retrieve\n",
    "retrieved = retrieve_documents(rag_system, user_query_vector, top_k=2)\n",
    "\n",
    "# Stage 3: Generate\n",
    "context_used = generate_response(query, retrieved, rag_system)\n",
    "\n",
    "print(f\"\\nPipeline completed! Used {len(context_used)} documents to generate response.\")"
   ]
  },
  {
   "cell_type": "code",
   "execution_count": 8,
   "id": "35a3c860-3687-493e-a2c1-3d3bac522f5b",
   "metadata": {},
   "outputs": [
    {
     "name": "stdout",
     "output_type": "stream",
     "text": [
      "FULL RAG PIPELINE WITH REALISTIC OUTPUT:\n",
      "============================================================\n",
      "COMPLETE RAG RESPONSE:\n",
      "==================================================\n",
      "Question: How do I learn Python programming?\n",
      "\n",
      "Answer:\n",
      "Based on the retrieved documents, here are the best resources for learning Python programming:\n",
      "\n",
      "- Python programming language tutorial\n",
      "- Python coding best practices guide\n",
      "\n",
      "I recommend starting with the \"Python programming language tutorial\" as it's specifically designed for learning, then moving to the \"Python coding best practices guide\" to improve your coding skills.\n",
      "\n",
      "============================================================\n",
      "RAG PIPELINE COMPLETE!\n",
      "✅ Indexing: Stored documents as vectors\n",
      "✅ Retrieval: Found most relevant documents\n",
      "✅ Generation: Created answer using retrieved context\n"
     ]
    }
   ],
   "source": [
    "# IMPROVED STAGE 3: Show what a real LLM response would look like\n",
    "def generate_complete_response(query, retrieved_docs, rag_system):\n",
    "    \"\"\"Show what a complete RAG response would look like\"\"\"\n",
    "    \n",
    "    # Gather context\n",
    "    context_docs = []\n",
    "    for doc_id, similarity in retrieved_docs:\n",
    "        doc_text = rag_system.document_store[doc_id]\n",
    "        context_docs.append(f\"- {doc_text}\")\n",
    "    \n",
    "    # Simulate what the LLM would actually generate\n",
    "    simulated_llm_response = f\"\"\"Based on the retrieved documents, here are the best resources for learning Python programming:\n",
    "\n",
    "{chr(10).join(context_docs)}\n",
    "\n",
    "I recommend starting with the \"Python programming language tutorial\" as it's specifically designed for learning, then moving to the \"Python coding best practices guide\" to improve your coding skills.\"\"\"\n",
    "    \n",
    "    print(\"COMPLETE RAG RESPONSE:\")\n",
    "    print(\"=\" * 50)\n",
    "    print(f\"Question: {query}\")\n",
    "    print()\n",
    "    print(\"Answer:\")\n",
    "    print(simulated_llm_response)\n",
    "    \n",
    "    return simulated_llm_response\n",
    "\n",
    "# Test the complete pipeline\n",
    "print(\"FULL RAG PIPELINE WITH REALISTIC OUTPUT:\")\n",
    "print(\"=\" * 60)\n",
    "\n",
    "# Run all 3 stages\n",
    "retrieved = retrieve_documents(rag_system, user_query_vector, top_k=2)\n",
    "final_answer = generate_complete_response(query, retrieved, rag_system)\n",
    "\n",
    "print(\"\\n\" + \"=\" * 60)\n",
    "print(\"RAG PIPELINE COMPLETE!\")\n",
    "print(\"✅ Indexing: Stored documents as vectors\")\n",
    "print(\"✅ Retrieval: Found most relevant documents\") \n",
    "print(\"✅ Generation: Created answer using retrieved context\")"
   ]
  },
  {
   "cell_type": "code",
   "execution_count": null,
   "id": "69141a67-c120-4994-934a-9c52b4edbadb",
   "metadata": {},
   "outputs": [],
   "source": []
  }
 ],
 "metadata": {
  "kernelspec": {
   "display_name": "Python 3 (ipykernel)",
   "language": "python",
   "name": "python3"
  },
  "language_info": {
   "codemirror_mode": {
    "name": "ipython",
    "version": 3
   },
   "file_extension": ".py",
   "mimetype": "text/x-python",
   "name": "python",
   "nbconvert_exporter": "python",
   "pygments_lexer": "ipython3",
   "version": "3.11.13"
  }
 },
 "nbformat": 4,
 "nbformat_minor": 5
}
